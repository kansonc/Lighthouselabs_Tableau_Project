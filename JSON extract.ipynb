{
 "cells": [
  {
   "cell_type": "code",
   "execution_count": 3,
   "metadata": {},
   "outputs": [
    {
     "name": "stdout",
     "output_type": "stream",
     "text": [
      "The file 'Data\\weekly_earnings.json' does not exist.\n"
     ]
    }
   ],
   "source": [
    "import json\n",
    "\n",
    "# Specify the path to your JSON file\n",
    "file_path = 'Data\\weekly_earnings.json'\n",
    "\n",
    "try:\n",
    "    # Open the JSON file in read mode\n",
    "    with open(file_path, 'r') as json_file:\n",
    "        # Load the JSON data into a Python data structure\n",
    "        data = json.load(json_file)\n",
    "\n",
    "    # Now, 'data' contains the JSON data as a Python object (e.g., dictionary or list)\n",
    "    print(data)\n",
    "\n",
    "except FileNotFoundError:\n",
    "    print(f\"The file '{file_path}' does not exist.\")\n",
    "except json.JSONDecodeError:\n",
    "    print(f\"Error decoding JSON data in '{file_path}'. Check the JSON syntax.\")\n",
    "except Exception as e:\n",
    "    print(f\"An error occurred: {str(e)}\")\n",
    "       "
   ]
  }
 ],
 "metadata": {
  "kernelspec": {
   "display_name": "base",
   "language": "python",
   "name": "python3"
  },
  "language_info": {
   "codemirror_mode": {
    "name": "ipython",
    "version": 3
   },
   "file_extension": ".py",
   "mimetype": "text/x-python",
   "name": "python",
   "nbconvert_exporter": "python",
   "pygments_lexer": "ipython3",
   "version": "3.8.13"
  }
 },
 "nbformat": 4,
 "nbformat_minor": 2
}
